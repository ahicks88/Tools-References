{
 "metadata": {
  "language_info": {
   "codemirror_mode": {
    "name": "ipython",
    "version": 3
   },
   "file_extension": ".py",
   "mimetype": "text/x-python",
   "name": "python",
   "nbconvert_exporter": "python",
   "pygments_lexer": "ipython3",
   "version": "3.7.0"
  },
  "orig_nbformat": 2,
  "kernelspec": {
   "name": "python370jvsc74a57bd00d39275b5d57360dc323aee2ab69d5d3bc99a186c1473083250767080f98d7ec",
   "display_name": "Python 3.7.0 64-bit ('base': conda)"
  }
 },
 "nbformat": 4,
 "nbformat_minor": 2,
 "cells": [
  {
   "source": [
    "## Import packaged"
   ],
   "cell_type": "markdown",
   "metadata": {}
  },
  {
   "cell_type": "code",
   "execution_count": 27,
   "metadata": {},
   "outputs": [],
   "source": [
    "import re\n",
    "from nltk.tokenize import word_tokenize"
   ]
  },
  {
   "source": [
    "## RE Package:"
   ],
   "cell_type": "markdown",
   "metadata": {}
  },
  {
   "cell_type": "code",
   "execution_count": 10,
   "metadata": {},
   "outputs": [
    {
     "output_type": "execute_result",
     "data": {
      "text/plain": [
       "<re.Match object; span=(0, 3), match='abc'>"
      ]
     },
     "metadata": {},
     "execution_count": 10
    }
   ],
   "source": [
    "# If you are looking to match a letters in a string you can use the match function:\n",
    "searchword = 'abc'\n",
    "re.match(searchword,'abcdef')"
   ]
  },
  {
   "source": [
    "#### When using the re package, you can apply a variety of different functions such as match. What comes next is the pattern, as seen below and then the string to apply that pattern to. Such as re.split('\\s+', 'Split on space.'). Below are some common regex patters:\n",
    "- \\w+ for  words\n",
    "- \\d for digits\n",
    "- \\s for spaces\n",
    "- .* is a wildcard or combination\n",
    "- + or * is considered a greedy match\n",
    "- \\S for non spaced\n",
    "- [a-z] createds a group of lowercase letter\n",
    "\n",
    "#### Aside from match, there are other functions that can be used in the re module as well.\n",
    "- split\n",
    "- findall\n",
    "- search"
   ],
   "cell_type": "markdown",
   "metadata": {}
  },
  {
   "source": [],
   "cell_type": "markdown",
   "metadata": {}
  },
  {
   "cell_type": "code",
   "execution_count": 21,
   "metadata": {},
   "outputs": [
    {
     "output_type": "execute_result",
     "data": {
      "text/plain": [
       "['Split', 'on', 'space']"
      ]
     },
     "metadata": {},
     "execution_count": 21
    }
   ],
   "source": [
    "re.findall('\\w+', 'Split on space.')"
   ]
  },
  {
   "source": [
    "## Tokeniztion with NLTk\n",
    "\n",
    "#### You can tokenize words into its individual parts for a variety of use cases. Some other tokenization packages are available in the nltk package as well:\n",
    "- sent_tokenize for splitting out documents into sentances\n",
    "- regexp_tokenize to tokenize a string based off a patter\n",
    "- TweetTokenizer is for special use cases for sperating hashtags, metnions and exclamations points"
   ],
   "cell_type": "markdown",
   "metadata": {}
  },
  {
   "cell_type": "code",
   "execution_count": 31,
   "metadata": {},
   "outputs": [
    {
     "output_type": "execute_result",
     "data": {
      "text/plain": [
       "['Hi', 'there', '!']"
      ]
     },
     "metadata": {},
     "execution_count": 31
    }
   ],
   "source": [
    "word_tokenize(\"Hi there!\")"
   ]
  },
  {
   "cell_type": "code",
   "execution_count": 31,
   "metadata": {},
   "outputs": [],
   "source": []
  },
  {
   "cell_type": "code",
   "execution_count": null,
   "metadata": {},
   "outputs": [],
   "source": []
  },
  {
   "cell_type": "code",
   "execution_count": null,
   "metadata": {},
   "outputs": [],
   "source": []
  },
  {
   "cell_type": "code",
   "execution_count": null,
   "metadata": {},
   "outputs": [],
   "source": []
  },
  {
   "cell_type": "code",
   "execution_count": null,
   "metadata": {},
   "outputs": [],
   "source": []
  },
  {
   "cell_type": "code",
   "execution_count": null,
   "metadata": {},
   "outputs": [],
   "source": []
  },
  {
   "cell_type": "code",
   "execution_count": null,
   "metadata": {},
   "outputs": [],
   "source": []
  },
  {
   "cell_type": "code",
   "execution_count": null,
   "metadata": {},
   "outputs": [],
   "source": []
  },
  {
   "cell_type": "code",
   "execution_count": null,
   "metadata": {},
   "outputs": [],
   "source": []
  }
 ]
}