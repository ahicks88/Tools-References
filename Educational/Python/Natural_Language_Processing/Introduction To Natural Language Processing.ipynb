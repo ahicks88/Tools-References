{
 "metadata": {
  "language_info": {
   "codemirror_mode": {
    "name": "ipython",
    "version": 3
   },
   "file_extension": ".py",
   "mimetype": "text/x-python",
   "name": "python",
   "nbconvert_exporter": "python",
   "pygments_lexer": "ipython3",
   "version": "3.7.0"
  },
  "orig_nbformat": 2,
  "kernelspec": {
   "name": "python370jvsc74a57bd00d39275b5d57360dc323aee2ab69d5d3bc99a186c1473083250767080f98d7ec",
   "display_name": "Python 3.7.0 64-bit ('base': conda)"
  }
 },
 "nbformat": 4,
 "nbformat_minor": 2,
 "cells": [
  {
   "source": [
    "## Import packaged"
   ],
   "cell_type": "markdown",
   "metadata": {}
  },
  {
   "cell_type": "code",
   "execution_count": 30,
   "metadata": {},
   "outputs": [],
   "source": [
    "import re\n",
    "from nltk.tokenize import word_tokenize, sent_tokenize, regexp_tokenize, TweetTokenizer"
   ]
  },
  {
   "source": [
    "## RE Package:"
   ],
   "cell_type": "markdown",
   "metadata": {}
  },
  {
   "cell_type": "code",
   "execution_count": 10,
   "metadata": {},
   "outputs": [
    {
     "output_type": "execute_result",
     "data": {
      "text/plain": [
       "<re.Match object; span=(0, 3), match='abc'>"
      ]
     },
     "metadata": {},
     "execution_count": 10
    }
   ],
   "source": [
    "# If you are looking to match a letters in a string you can use the match function:\n",
    "searchword = 'abc'\n",
    "re.match(searchword,'abcdef')"
   ]
  },
  {
   "source": [
    "#### When using the re package, you can apply a variety of different functions such as match. What comes next is the pattern, as seen below and then the string to apply that pattern to. Such as re.split('\\s+', 'Split on space.'). Below are some common regex patters:\n",
    "- \\w+ for  words\n",
    "- \\d for digits\n",
    "- \\s for spaces\n",
    "- .* is a wildcard or combination\n",
    "- \\+ or * is considered a greedy match. The plus symbol makes sure you capture the whole word, not just the letter.\n",
    "- \\S for non spaced\n",
    "- \\[a-z] createds a group of lowercase letter\n",
    "\n",
    "#### Aside from match, there are other functions that can be used in the re module as well.\n",
    "- split\n",
    "- findall\n",
    "- search\n",
    "\n",
    "#### Here are some additional pattens that can be used:\n",
    "- \\[A-Za-z]+ for upper and lower case\n",
    "- \\[0-9] for numbers between 0 and 9\n",
    "- \\[A-Za-z\\-\\.] for not only upper and lower case but also include - and .\n",
    "- (a-z) will only include a or z\n",
    "- (\\s+|,) for spaces and commas only"
   ],
   "cell_type": "markdown",
   "metadata": {}
  },
  {
   "source": [],
   "cell_type": "markdown",
   "metadata": {}
  },
  {
   "cell_type": "code",
   "execution_count": 21,
   "metadata": {},
   "outputs": [
    {
     "output_type": "execute_result",
     "data": {
      "text/plain": [
       "['Split', 'on', 'space']"
      ]
     },
     "metadata": {},
     "execution_count": 21
    }
   ],
   "source": [
    "re.findall('\\w+', 'Split on space.')"
   ]
  },
  {
   "cell_type": "code",
   "execution_count": 6,
   "metadata": {},
   "outputs": [
    {
     "output_type": "stream",
     "name": "stdout",
     "text": [
      "<re.Match object; span=(0, 3), match='abc'>\n<re.Match object; span=(0, 3), match='abc'>\nNone\n<re.Match object; span=(2, 4), match='cd'>\n"
     ]
    }
   ],
   "source": [
    "print(re.match('abc','abcde'))\n",
    "print(re.search('abc','abcdef'))\n",
    "print(re.match('cd','abcde')) # Won't work because match starts at the begining and will stop if not found\n",
    "print(re.search('cd','abcdef')) # Works because it looks for the presnese of the word anywhere in the string"
   ]
  },
  {
   "source": [
    "## Tokeniztion with NLTK\n",
    "\n",
    "#### You can tokenize words into its individual parts for a variety of use cases. Some other tokenization packages are available in the nltk package as well:\n",
    "- sent_tokenize for splitting out documents into sentances\n",
    "- regexp_tokenize to tokenize a string based off a pattern\n",
    "- TweetTokenizer is for special use cases for sperating hashtags, metnions and exclamations points"
   ],
   "cell_type": "markdown",
   "metadata": {}
  },
  {
   "cell_type": "code",
   "execution_count": 13,
   "metadata": {},
   "outputs": [
    {
     "output_type": "stream",
     "name": "stdout",
     "text": [
      "['Hi', 'there', '!']\n{'there', 'Hi', '!'}\n['This is a first sentance.', 'This is a second sentance.']\nThis is a second sentance.\n"
     ]
    }
   ],
   "source": [
    "print(word_tokenize(\"Hi there!\"))\n",
    "print(set(word_tokenize(\"Hi there there!\"))) # Wrapping in a set() function will allow you to get distinct values\n",
    "\n",
    "x = \"\"\"This is a first sentance.\n",
    "       This is a second sentance.\"\"\"\n",
    "print(sent_tokenize(x)) # Splits the sting into individual sentances\n",
    "print(sent_tokenize(x)[1]) # Prints out only the sencod sentance"
   ]
  },
  {
   "cell_type": "code",
   "execution_count": 28,
   "metadata": {},
   "outputs": [
    {
     "output_type": "stream",
     "name": "stdout",
     "text": [
      "[' is', ' a', ' sentance', ' The', ' index', ' is', ' 193']\n{' index', ' is', ' sentance', ' 193', ' The', ' a'}\n<re.Match object; span=(0, 18), match='here is a sentance'>\n"
     ]
    }
   ],
   "source": [
    "my_str = 'here is a sentance. The index is 193 !'\n",
    "match_digits_and_words = ('(\\d+ | \\w+)')\n",
    "print(re.findall(match_digits_and_words, my_str))\n",
    "print(set(re.findall(match_digits_and_words, my_str)))\n",
    "\n",
    "print(re.match('[a-z0-9 ]+', my_str))"
   ]
  },
  {
   "cell_type": "code",
   "execution_count": 35,
   "metadata": {},
   "outputs": [],
   "source": []
  },
  {
   "cell_type": "code",
   "execution_count": 31,
   "metadata": {},
   "outputs": [],
   "source": []
  },
  {
   "cell_type": "code",
   "execution_count": 35,
   "metadata": {},
   "outputs": [],
   "source": []
  },
  {
   "cell_type": "code",
   "execution_count": null,
   "metadata": {},
   "outputs": [],
   "source": []
  },
  {
   "cell_type": "code",
   "execution_count": null,
   "metadata": {},
   "outputs": [],
   "source": []
  },
  {
   "cell_type": "code",
   "execution_count": null,
   "metadata": {},
   "outputs": [],
   "source": []
  },
  {
   "cell_type": "code",
   "execution_count": null,
   "metadata": {},
   "outputs": [],
   "source": []
  }
 ]
}