{
 "metadata": {
  "language_info": {
   "codemirror_mode": {
    "name": "ipython",
    "version": 3
   },
   "file_extension": ".py",
   "mimetype": "text/x-python",
   "name": "python",
   "nbconvert_exporter": "python",
   "pygments_lexer": "ipython3",
   "version": "3.7.0"
  },
  "orig_nbformat": 4,
  "kernelspec": {
   "name": "python3",
   "display_name": "Python 3.7.0 64-bit ('base': conda)"
  },
  "interpreter": {
   "hash": "0d39275b5d57360dc323aee2ab69d5d3bc99a186c1473083250767080f98d7ec"
  }
 },
 "nbformat": 4,
 "nbformat_minor": 2,
 "cells": [
  {
   "cell_type": "code",
   "execution_count": 25,
   "metadata": {},
   "outputs": [
    {
     "output_type": "stream",
     "name": "stdout",
     "text": [
      "time taken =  0.12192964553833008\n"
     ]
    }
   ],
   "source": [
    "# https://youtu.be/PcJZeCEEhws\n",
    "\n",
    "import multiprocessing \n",
    "import time\n",
    "\n",
    "def counter1(num):\n",
    "    cnt = 0\n",
    "    for _ in range(num):\n",
    "        cnt += 1\n",
    "    print(\"counter1 done!\")\n",
    "\n",
    "def counter2(num):\n",
    "    cnt = 0\n",
    "    for _ in range(0, num, 2):\n",
    "        cnt += 1\n",
    "    print(\"counter2 done!\")\n",
    "\n",
    "if __name__ == \"__main__\":\n",
    "    # Single-Processing\n",
    "    N = 2 * 10**8\n",
    "    st = time.time()\n",
    "    # counter1(N)\n",
    "    # counter2(N)\n",
    "    # en = time.time()\n",
    "    # print(\"time taken = \", en-st)\n",
    "\n",
    "    # Multi-Processing\n",
    "    p1 = multiprocessing.Process(target = counter1, args=(N,))\n",
    "    p2 = multiprocessing.Process(target = counter2, args=(N,))\n",
    "\n",
    "    p1.start()\n",
    "    p2.start()\n",
    "\n",
    "    p1.join()\n",
    "    p2.join()\n",
    "    en = time.time()\n",
    "    print(\"time taken = \", en-st)"
   ]
  }
 ]
}